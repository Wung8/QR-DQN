{
 "cells": [
  {
   "cell_type": "code",
   "execution_count": 1,
   "id": "1a2753db-3c08-4485-8819-69644b55de99",
   "metadata": {},
   "outputs": [],
   "source": [
    "import matplotlib.pyplot as plt\n",
    "import torch\n",
    "import numpy as np\n",
    "import math, random, time"
   ]
  },
  {
   "cell_type": "code",
   "execution_count": 8,
   "id": "25a19d05-ad45-46ed-9b1e-a3eacac2c503",
   "metadata": {},
   "outputs": [],
   "source": [
    "from torch import nn\n",
    "\n",
    "input_space = 3\n",
    "N = 8\n",
    "model = nn.Sequential(\n",
    "      nn.Linear(input_space,64),\n",
    "      nn.Mish(),\n",
    "      nn.Linear(64,64),\n",
    "      nn.Mish(),\n",
    "      nn.Linear(64,N),\n",
    "    )\n",
    "opt = torch.optim.Adam(model.parameters(), lr=0.001)\n",
    "quantile_tau = torch.tensor([(2*i+1)/(2*N) for i in range(0,N)], dtype=torch.float32)"
   ]
  },
  {
   "cell_type": "code",
   "execution_count": 3,
   "id": "c9d3807d-36a0-4f93-b22b-b8c8f4e72c72",
   "metadata": {},
   "outputs": [],
   "source": [
    "def display_distribution(s):\n",
    "    values = get_distribution(s).tolist()\n",
    "    print(np.mean(values))\n",
    "    print(values)\n",
    "    values.sort()\n",
    "    points = []\n",
    "    sub_a = 1/N\n",
    "    for v, next_v in zip(values, values[1:]):\n",
    "        dv = next_v - v\n",
    "        points.append([v,sub_a/dv])\n",
    "        points.append([next_v,sub_a/dv])\n",
    "    points = [*zip(*points)]\n",
    "    plt.fill_between(points[0], points[1])\n",
    "    plt.show()\n",
    "\n",
    "def get_distribution(s):\n",
    "    with torch.no_grad():\n",
    "        values = model.forward(s)\n",
    "    return values\n",
    "\n",
    "def learn(s, r, s_next, done):\n",
    "    opt.zero_grad()\n",
    "    if done: next_values = torch.zeros(N)\n",
    "    else: next_values = get_distribution(s_next)\n",
    "    next_values = r + next_values\n",
    "\n",
    "    pred_values = model.forward(s)\n",
    "    td_e = next_values - pred_values\n",
    "    huber_l = huber_loss(td_e)\n",
    "    quantile_l = abs(quantile_tau -(td_e.detach() < 0).float()) * huber_l\n",
    "\n",
    "    loss = quantile_l.mean()\n",
    "    loss.backward()\n",
    "    opt.step()\n",
    "\n",
    "def huber_loss(td_e, k=1.0):\n",
    "    loss = torch.where(td_e.abs() <= k, 0.5 * td_e.pow(2), k * (td_e.abs() - 0.5 * k))\n",
    "    return loss       "
   ]
  },
  {
   "cell_type": "code",
   "execution_count": 4,
   "id": "dc45d644-34b0-497b-86ea-2c0d014b0565",
   "metadata": {},
   "outputs": [
    {
     "name": "stdout",
     "output_type": "stream",
     "text": [
      "0.033685900969430804\n",
      "[0.09756146371364594, 0.012824863195419312, 0.03360813111066818, -0.06188405305147171, -0.028231041505932808, 0.08889506012201309, 0.010083302855491638, 0.11662948131561279]\n"
     ]
    },
    {
     "data": {
      "image/png": "[encoded data removed]",
      "text/plain": [
       "<Figure size 640x480 with 1 Axes>"
      ]
     },
     "metadata": {},
     "output_type": "display_data"
    }
   ],
   "source": [
    "# initial distribution\n",
    "display_distribution(torch.tensor([0.0,0.0,0.0]))"
   ]
  },
  {
   "cell_type": "code",
   "execution_count": 5,
   "id": "160fa7c3-e91f-43fb-bff8-0e2d8c79262d",
   "metadata": {},
   "outputs": [],
   "source": [
    "def train(episodes=1000):\n",
    "    for ep in range(episodes):\n",
    "        s = torch.zeros(input_space)\n",
    "        r, done = 0, False\n",
    "        for step in range(input_space):\n",
    "            action = np.random.choice([-1, 1])\n",
    "            s_next = s.clone()\n",
    "            s_next[step] = action\n",
    "            learn(s, r, s_next, done)\n",
    "            s = s_next \n",
    "        for i in range(input_space):\n",
    "            if s_next[-i-1].item() > 0: \n",
    "                r += 2**i\n",
    "        done = True\n",
    "        learn(s, r, None, done)"
   ]
  },
  {
   "cell_type": "code",
   "execution_count": 6,
   "id": "28e66025-abec-48fe-b9f0-e8febcbf8505",
   "metadata": {},
   "outputs": [],
   "source": [
    "train()"
   ]
  },
  {
   "cell_type": "code",
   "execution_count": 7,
   "id": "be8ef093-5747-4c59-af1d-92a46283d5fc",
   "metadata": {},
   "outputs": [
    {
     "name": "stdout",
     "output_type": "stream",
     "text": [
      "511.8681011348963\n",
      "[-11182.076171875, -2284.152099609375, -14.827229499816895, 1.4541326761245728, 5.421848297119141, -1.6964716911315918, 5197.03076171875, 12373.7900390625]\n"
     ]
    },
    {
     "data": {
      "image/png": "[encoded data removed]",
      "text/plain": [
       "<Figure size 640x480 with 1 Axes>"
      ]
     },
     "metadata": {},
     "output_type": "display_data"
    }
   ],
   "source": [
    "# inference\n",
    "display_distribution(torch.tensor([0.0,0.0,0.0]))"
   ]
  }
 ],
 "metadata": {
  "kernelspec": {
   "display_name": "Python 3 (ipykernel)",
   "language": "python",
   "name": "python3"
  },
  "language_info": {
   "codemirror_mode": {
    "name": "ipython",
    "version": 3
   },
   "file_extension": ".py",
   "mimetype": "text/x-python",
   "name": "python",
   "nbconvert_exporter": "python",
   "pygments_lexer": "ipython3",
   "version": "3.11.4"
  }
 },
 "nbformat": 4,
 "nbformat_minor": 5
}
